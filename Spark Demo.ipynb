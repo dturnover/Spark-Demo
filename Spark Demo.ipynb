{
 "cells": [
  {
   "cell_type": "code",
   "execution_count": 1,
   "metadata": {
    "id": "5-LPs_jFt7nu"
   },
   "outputs": [],
   "source": [
    "!apt-get install openjdk-8-jdk-headless -qq > /dev/null\n",
    "!wget -q http://archive.apache.org/dist/spark/spark-3.1.1/spark-3.1.1-bin-hadoop3.2.tgz\n",
    "!tar xf spark-3.1.1-bin-hadoop3.2.tgz\n",
    "!pip install -q findspark"
   ]
  },
  {
   "cell_type": "code",
   "execution_count": 2,
   "metadata": {
    "id": "9SwNpQSwuAX4"
   },
   "outputs": [],
   "source": [
    "import os\n",
    "os.environ[\"JAVA_HOME\"] = \"/usr/lib/jvm/java-8-openjdk-amd64\"\n",
    "os.environ[\"SPARK_HOME\"] = \"/content/spark-3.1.1-bin-hadoop3.2\""
   ]
  },
  {
   "cell_type": "code",
   "execution_count": 3,
   "metadata": {
    "colab": {
     "base_uri": "https://localhost:8080/",
     "height": 219
    },
    "id": "5FgHg96FuJUV",
    "outputId": "0f8c531e-6aa6-438b-b316-991d927e1a4e"
   },
   "outputs": [
    {
     "data": {
      "text/html": [
       "\n",
       "            <div>\n",
       "                <p><b>SparkSession - in-memory</b></p>\n",
       "                \n",
       "        <div>\n",
       "            <p><b>SparkContext</b></p>\n",
       "\n",
       "            <p><a href=\"http://f9cba87279c4:4040\">Spark UI</a></p>\n",
       "\n",
       "            <dl>\n",
       "              <dt>Version</dt>\n",
       "                <dd><code>v3.1.1</code></dd>\n",
       "              <dt>Master</dt>\n",
       "                <dd><code>local[*]</code></dd>\n",
       "              <dt>AppName</dt>\n",
       "                <dd><code>pyspark-shell</code></dd>\n",
       "            </dl>\n",
       "        </div>\n",
       "        \n",
       "            </div>\n",
       "        "
      ],
      "text/plain": [
       "<pyspark.sql.session.SparkSession at 0x7efccfd030a0>"
      ]
     },
     "execution_count": 3,
     "metadata": {},
     "output_type": "execute_result"
    }
   ],
   "source": [
    "import findspark\n",
    "findspark.init()\n",
    "from pyspark.sql import SparkSession\n",
    "spark = SparkSession.builder.master(\"local[*]\").getOrCreate()\n",
    "spark.conf.set(\"spark.sql.repl.eagerEval.enabled\", True) # Property used to format output tables better\n",
    "spark"
   ]
  },
  {
   "cell_type": "code",
   "execution_count": 19,
   "metadata": {
    "id": "FY3RtBkD4knq"
   },
   "outputs": [],
   "source": [
    "from pyspark.sql.types import StringType, FloatType, DoubleType\n",
    "from pyspark.ml.feature import MinMaxScaler, VectorAssembler\n",
    "from pyspark.ml.regression import LinearRegression\n",
    "from pyspark.ml.evaluation import RegressionEvaluator\n",
    "from pyspark.ml import Pipeline\n",
    "from pyspark.sql.functions import udf, col"
   ]
  },
  {
   "cell_type": "code",
   "execution_count": 5,
   "metadata": {
    "colab": {
     "base_uri": "https://localhost:8080/"
    },
    "id": "abfUjBN6vOoa",
    "outputId": "8e748b6d-2bb7-473a-cc3a-2706c31b1011"
   },
   "outputs": [
    {
     "name": "stdout",
     "output_type": "stream",
     "text": [
      "Mounted at /content/drive\n"
     ]
    }
   ],
   "source": [
    "from google.colab import drive\n",
    "drive.mount('/content/drive')"
   ]
  },
  {
   "cell_type": "markdown",
   "metadata": {},
   "source": [
    "# EDA"
   ]
  },
  {
   "cell_type": "code",
   "execution_count": 6,
   "metadata": {
    "id": "KweBCdFmwIxj"
   },
   "outputs": [],
   "source": [
    "ecom_df = spark.read.csv('/content/drive/My Drive/Colab Notebooks/Applications of AI/Assignment 2/Ecomm-Customers.csv', header=True, multiLine=True)"
   ]
  },
  {
   "cell_type": "code",
   "execution_count": 7,
   "metadata": {
    "colab": {
     "base_uri": "https://localhost:8080/"
    },
    "id": "-8hL7yur6388",
    "outputId": "add698c7-3a2a-409c-ac78-f2a9252a32b7"
   },
   "outputs": [
    {
     "data": {
      "text/plain": [
       "500"
      ]
     },
     "execution_count": 7,
     "metadata": {},
     "output_type": "execute_result"
    }
   ],
   "source": [
    "ecom_df.count()"
   ]
  },
  {
   "cell_type": "code",
   "execution_count": 8,
   "metadata": {
    "colab": {
     "base_uri": "https://localhost:8080/"
    },
    "id": "btDB7mb3wptL",
    "outputId": "ad86b63a-d08d-4881-a90d-f4cbc6422f6b",
    "scrolled": true
   },
   "outputs": [
    {
     "name": "stdout",
     "output_type": "stream",
     "text": [
      "+--------------------+--------------------+----------------+-------------------+------------------+------------------+--------------------+-------------------+\n",
      "|               Email|             Address|          Avatar|Avg. Session Length|       Time on App|   Time on Website|Length of Membership|Yearly Amount Spent|\n",
      "+--------------------+--------------------+----------------+-------------------+------------------+------------------+--------------------+-------------------+\n",
      "|mstephenson@ferna...|835 Frank Tunnel\n",
      "...|          Violet|  34.49726772511229|12.655651149166752| 39.57766801952616|   4.082620632952961|  587.9510539684005|\n",
      "|   hduke@hotmail.com|4547 Archer Commo...|       DarkGreen| 31.926272026360156|11.109460728682564|37.268958868297744|    2.66403418213262|  392.2049334443264|\n",
      "|    pallen@yahoo.com|24645 Valerie Uni...|          Bisque| 33.000914755642675|11.330278057777512| 37.11059744212085|   4.104543202376424| 487.54750486747207|\n",
      "|riverarebecca@gma...|1414 David Throug...|     SaddleBrown|  34.30555662975554|13.717513665142508| 36.72128267790313|  3.1201787827480914|  581.8523440352178|\n",
      "|mstephens@davidso...|14023 Rodriguez P...|MediumAquaMarine|  33.33067252364639|12.795188551078114| 37.53665330059473|   4.446308318351435|  599.4060920457634|\n",
      "+--------------------+--------------------+----------------+-------------------+------------------+------------------+--------------------+-------------------+\n",
      "only showing top 5 rows\n",
      "\n"
     ]
    }
   ],
   "source": [
    "ecom_df.show(5)"
   ]
  },
  {
   "cell_type": "markdown",
   "metadata": {},
   "source": [
    "### There are 8 columns. 3 columns contain strings, the rest are numeric. Of the string datatype features only one is categorical and loosely at that. We need only use the numeric data for regression."
   ]
  },
  {
   "cell_type": "code",
   "execution_count": 9,
   "metadata": {
    "id": "Rba4j_m8DxAh"
   },
   "outputs": [],
   "source": [
    "ecom_df = ecom_df.withColumnRenamed('Avg. Session Length', 'Avg Session Length')"
   ]
  },
  {
   "cell_type": "code",
   "execution_count": 46,
   "metadata": {
    "id": "EIyaRQCf4s-O"
   },
   "outputs": [],
   "source": [
    "features = ecom_df.select('Avg Session Length', 'Time on App', 'Time on Website', 'Length of Membership', 'Yearly Amount Spent') "
   ]
  },
  {
   "cell_type": "code",
   "execution_count": 48,
   "metadata": {
    "colab": {
     "base_uri": "https://localhost:8080/",
     "height": 158
    },
    "id": "9vLD6SoozBbO",
    "outputId": "70dbdf0d-3b8e-4445-c9c1-c76fcf54bab1"
   },
   "outputs": [
    {
     "data": {
      "text/html": [
       "<table border='1'>\n",
       "<tr><th>summary</th><th>Avg Session Length</th><th>Time on App</th><th>Time on Website</th><th>Length of Membership</th><th>Yearly Amount Spent</th></tr>\n",
       "<tr><td>count</td><td>500</td><td>500</td><td>500</td><td>500</td><td>500</td></tr>\n",
       "<tr><td>mean</td><td>33.053193518196196</td><td>12.052487937166132</td><td>37.06044542094858</td><td>3.5334615559150553</td><td>499.314038258591</td></tr>\n",
       "<tr><td>stddev</td><td>0.9925631110845354</td><td>0.9942156084725423</td><td>1.0104889067564031</td><td>0.9992775024112583</td><td>79.3147815497068</td></tr>\n",
       "<tr><td>min</td><td>29.532428967057946</td><td>10.012583366223023</td><td>33.91384724758464</td><td>0.2699010899842742</td><td>256.67058229005585</td></tr>\n",
       "<tr><td>max</td><td>36.13966248879052</td><td>9.98451439654646</td><td>40.005181638101895</td><td>6.922689335035807</td><td>765.5184619388372</td></tr>\n",
       "</table>\n"
      ],
      "text/plain": [
       "+-------+------------------+------------------+------------------+--------------------+-------------------+\n",
       "|summary|Avg Session Length|       Time on App|   Time on Website|Length of Membership|Yearly Amount Spent|\n",
       "+-------+------------------+------------------+------------------+--------------------+-------------------+\n",
       "|  count|               500|               500|               500|                 500|                500|\n",
       "|   mean|33.053193518196196|12.052487937166132| 37.06044542094858|  3.5334615559150553|   499.314038258591|\n",
       "| stddev|0.9925631110845354|0.9942156084725423|1.0104889067564031|  0.9992775024112583|   79.3147815497068|\n",
       "|    min|29.532428967057946|10.012583366223023| 33.91384724758464|  0.2699010899842742| 256.67058229005585|\n",
       "|    max| 36.13966248879052|  9.98451439654646|40.005181638101895|   6.922689335035807|  765.5184619388372|\n",
       "+-------+------------------+------------------+------------------+--------------------+-------------------+"
      ]
     },
     "execution_count": 48,
     "metadata": {},
     "output_type": "execute_result"
    }
   ],
   "source": [
    "features.describe()"
   ]
  },
  {
   "cell_type": "code",
   "execution_count": 49,
   "metadata": {
    "id": "XHa4vD1vHdxu"
   },
   "outputs": [],
   "source": [
    "for n in features.columns:\n",
    "  features = features.withColumn(n, col(n).cast(FloatType()))"
   ]
  },
  {
   "cell_type": "markdown",
   "metadata": {},
   "source": [
    "# Feature Engineering"
   ]
  },
  {
   "cell_type": "markdown",
   "metadata": {},
   "source": [
    "### Standardize each column using MinMax scaling. It seems in PySpark we need to use something called a vectorizer and must run each column through a pipeline to do so."
   ]
  },
  {
   "cell_type": "code",
   "execution_count": 50,
   "metadata": {
    "id": "Me-qkS2WEAfA"
   },
   "outputs": [],
   "source": [
    "unlist = udf(lambda x: round(float(list(x)[0]), 3), DoubleType())\n",
    "\n",
    "for n in features.columns:\n",
    "  assembler = VectorAssembler(inputCols=[n], outputCol=n+\" Vect\")\n",
    "\n",
    "  scaler = MinMaxScaler(inputCol=n+\" Vect\", outputCol=n+\" Scaled\")\n",
    "\n",
    "  pipeline = Pipeline(stages=[assembler, scaler])\n",
    "\n",
    "  features = pipeline.fit(features).transform(features).withColumn(n+\" Scaled\", unlist(n+\" Scaled\")).drop(n+\" Vect\")"
   ]
  },
  {
   "cell_type": "code",
   "execution_count": 51,
   "metadata": {
    "id": "PYVvidG7LAjA"
   },
   "outputs": [],
   "source": [
    "for n in features.columns:\n",
    "  if 'Scaled' not in n:\n",
    "    features = features.drop(n)"
   ]
  },
  {
   "cell_type": "code",
   "execution_count": 52,
   "metadata": {
    "id": "cZV9v0lD5kRu"
   },
   "outputs": [],
   "source": [
    "assembler = VectorAssembler(inputCols=['Avg Session Length Scaled',\t'Time on App Scaled',\t'Time on Website Scaled',\t'Length of Membership Scaled'], outputCol='features')\n",
    "features = assembler.transform(features)\n",
    "features = features.select(['features', 'Yearly Amount Spent Scaled'])\n",
    "features = features.withColumnRenamed('Yearly Amount Spent Scaled', 'target')"
   ]
  },
  {
   "cell_type": "code",
   "execution_count": 53,
   "metadata": {
    "colab": {
     "base_uri": "https://localhost:8080/"
    },
    "id": "speqzk2p6EBw",
    "outputId": "9cc0834e-3732-4266-e9da-25b18fd1e5aa"
   },
   "outputs": [
    {
     "name": "stdout",
     "output_type": "stream",
     "text": [
      "+--------------------+------+\n",
      "|            features|target|\n",
      "+--------------------+------+\n",
      "|[0.751,0.627,0.93...| 0.651|\n",
      "|[0.362,0.393,0.55...| 0.266|\n",
      "|[0.525,0.426,0.52...| 0.454|\n",
      "|[0.722,0.787,0.46...| 0.639|\n",
      "|[0.575,0.648,0.59...| 0.674|\n",
      "+--------------------+------+\n",
      "only showing top 5 rows\n",
      "\n"
     ]
    }
   ],
   "source": [
    "features.show(5)"
   ]
  },
  {
   "cell_type": "markdown",
   "metadata": {},
   "source": [
    "# Divide data into training and testing sets"
   ]
  },
  {
   "cell_type": "code",
   "execution_count": 54,
   "metadata": {
    "id": "_ZHDAN9wxmnO"
   },
   "outputs": [],
   "source": [
    "train, test = features.randomSplit([0.8, 0.2])"
   ]
  },
  {
   "cell_type": "markdown",
   "metadata": {},
   "source": [
    "# Apply linear regression. Train and test the model"
   ]
  },
  {
   "cell_type": "code",
   "execution_count": 55,
   "metadata": {
    "id": "GGqJix3UpY3w"
   },
   "outputs": [],
   "source": [
    "lr = LinearRegression(featuresCol='features', labelCol='target')\n",
    "\n",
    "model = lr.fit(train)\n",
    "\n",
    "print('RMSE: %f' % model.summary.rootMeanSquaredError)\n",
    "print('r2: %f' % model.summary.r2)"
   ]
  },
  {
   "cell_type": "code",
   "execution_count": 58,
   "metadata": {
    "id": "1lkAgDYg7GwM"
   },
   "outputs": [],
   "source": [
    "preds = model.transform(test)"
   ]
  },
  {
   "cell_type": "code",
   "execution_count": 59,
   "metadata": {
    "colab": {
     "base_uri": "https://localhost:8080/"
    },
    "id": "tbBhrPEd-DgG",
    "outputId": "2570742a-0b95-4f97-9fb3-836e3b2a5dad"
   },
   "outputs": [
    {
     "name": "stdout",
     "output_type": "stream",
     "text": [
      "+--------------------+------+-------------------+\n",
      "|            features|target|         prediction|\n",
      "+--------------------+------+-------------------+\n",
      "|[0.158,0.43,0.521...| 0.364|0.36302439010486043|\n",
      "|[0.182,0.624,0.37...| 0.403| 0.3806161877200489|\n",
      "|[0.231,0.582,0.37...| 0.454| 0.4647593479736911|\n",
      "|[0.29,0.241,0.678...| 0.318| 0.3336027709131625|\n",
      "|[0.302,0.534,0.75...|   0.3|  0.315233170011078|\n",
      "+--------------------+------+-------------------+\n",
      "only showing top 5 rows\n",
      "\n"
     ]
    }
   ],
   "source": [
    "preds.show(5)"
   ]
  },
  {
   "cell_type": "markdown",
   "metadata": {},
   "source": [
    "# Conclusion: 98.1% accuracy on the test set is superb. The model performed well on the test data. It generalized nicely."
   ]
  },
  {
   "cell_type": "code",
   "execution_count": 60,
   "metadata": {
    "colab": {
     "base_uri": "https://localhost:8080/"
    },
    "id": "SzAI_tbl-N3Q",
    "outputId": "30e9abe8-b56a-4019-ea3d-24f29fde77c6"
   },
   "outputs": [
    {
     "data": {
      "text/plain": [
       "0.9812224596442902"
      ]
     },
     "execution_count": 60,
     "metadata": {},
     "output_type": "execute_result"
    }
   ],
   "source": [
    "eval = RegressionEvaluator(predictionCol='prediction', labelCol='target', metricName='r2')\n",
    "eval.evaluate(preds)"
   ]
  }
 ],
 "metadata": {
  "colab": {
   "provenance": []
  },
  "kernelspec": {
   "display_name": "Python 3 (ipykernel)",
   "language": "python",
   "name": "python3"
  },
  "language_info": {
   "codemirror_mode": {
    "name": "ipython",
    "version": 3
   },
   "file_extension": ".py",
   "mimetype": "text/x-python",
   "name": "python",
   "nbconvert_exporter": "python",
   "pygments_lexer": "ipython3",
   "version": "3.10.9"
  }
 },
 "nbformat": 4,
 "nbformat_minor": 1
}
